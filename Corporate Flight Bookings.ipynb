{
 "cells": [
  {
   "cell_type": "code",
   "execution_count": 14,
   "id": "d55bedcd",
   "metadata": {},
   "outputs": [],
   "source": [
    "class Solution:\n",
    "    def corpFlightBookings(self, bookings: list[list[int]], n: int) -> list[int]:\n",
    "\n",
    "        mat=[0 for _ in range(n)]\n",
    "        \n",
    "        if all(elem == bookings[0] for elem in bookings):\n",
    "            if len(bookings)==1:\n",
    "                return [bookings[0][2]]\n",
    "            return [bookings[0][2]*n for _ in range(n)]\n",
    "        \n",
    "        for booking in bookings:\n",
    "            first = booking[0]\n",
    "            last = booking[1]\n",
    "            amount = booking[2]\n",
    "            \n",
    "            for i in range(first-1, last):\n",
    "                mat[i]+=amount\n",
    "            \n",
    "            \n",
    "        return mat"
   ]
  },
  {
   "cell_type": "code",
   "execution_count": 15,
   "id": "1501690c",
   "metadata": {},
   "outputs": [
    {
     "data": {
      "text/plain": [
       "[10]"
      ]
     },
     "execution_count": 15,
     "metadata": {},
     "output_type": "execute_result"
    }
   ],
   "source": [
    "instance = Solution()\n",
    "\n",
    "instance.corpFlightBookings([[1,1,10]], 1)\n",
    "\n"
   ]
  },
  {
   "cell_type": "code",
   "execution_count": null,
   "id": "f285b48d",
   "metadata": {},
   "outputs": [],
   "source": []
  }
 ],
 "metadata": {
  "kernelspec": {
   "display_name": "Python 3 (ipykernel)",
   "language": "python",
   "name": "python3"
  },
  "language_info": {
   "codemirror_mode": {
    "name": "ipython",
    "version": 3
   },
   "file_extension": ".py",
   "mimetype": "text/x-python",
   "name": "python",
   "nbconvert_exporter": "python",
   "pygments_lexer": "ipython3",
   "version": "3.9.12"
  }
 },
 "nbformat": 4,
 "nbformat_minor": 5
}
