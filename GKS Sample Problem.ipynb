{
 "cells": [
  {
   "cell_type": "code",
   "execution_count": 7,
   "id": "96738b48",
   "metadata": {},
   "outputs": [
    {
     "name": "stdout",
     "output_type": "stream",
     "text": [
      "2\n",
      "7 3\n",
      "1 2 3 4 5 6 7\n",
      "5 10\n",
      "7 7 7 7 7\n",
      "Case #1: 1\n",
      "Case #2: 5\n",
      "\n"
     ]
    }
   ],
   "source": [
    "t = int(input())\n",
    "RES=''\n",
    "for i in range(t):\n",
    "    n, m = [int(j) for j in input().split()]\n",
    "    \n",
    "    arr = [int(j) for j in input().split()]\n",
    "    \n",
    "    RES+= \"Case #\"+str(i+1)+\": \"+str(int(sum(arr)%m))+'\\n'\n",
    "\n",
    "print(RES)"
   ]
  },
  {
   "cell_type": "code",
   "execution_count": null,
   "id": "a35f58fb",
   "metadata": {},
   "outputs": [],
   "source": []
  }
 ],
 "metadata": {
  "kernelspec": {
   "display_name": "Python 3 (ipykernel)",
   "language": "python",
   "name": "python3"
  },
  "language_info": {
   "codemirror_mode": {
    "name": "ipython",
    "version": 3
   },
   "file_extension": ".py",
   "mimetype": "text/x-python",
   "name": "python",
   "nbconvert_exporter": "python",
   "pygments_lexer": "ipython3",
   "version": "3.9.12"
  }
 },
 "nbformat": 4,
 "nbformat_minor": 5
}
