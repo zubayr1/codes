{
 "cells": [
  {
   "cell_type": "code",
   "execution_count": null,
   "id": "3720caef",
   "metadata": {},
   "outputs": [],
   "source": []
  },
  {
   "cell_type": "code",
   "execution_count": 78,
   "id": "56d41e88",
   "metadata": {},
   "outputs": [],
   "source": [
    "def solution(x, y):\n",
    "    if x==1 and y==1:\n",
    "        return 1\n",
    "    \n",
    "    if x>1:\n",
    "        return 1+ solution(x-1, y+1)\n",
    "    elif x==1:        \n",
    "        return 1+ solution(y-1, 1)"
   ]
  },
  {
   "cell_type": "code",
   "execution_count": 79,
   "id": "87516467",
   "metadata": {},
   "outputs": [
    {
     "data": {
      "text/plain": [
       "96"
      ]
     },
     "execution_count": 79,
     "metadata": {},
     "output_type": "execute_result"
    }
   ],
   "source": [
    "solution(5, 10)"
   ]
  },
  {
   "cell_type": "code",
   "execution_count": null,
   "id": "2127cf5b",
   "metadata": {},
   "outputs": [],
   "source": []
  }
 ],
 "metadata": {
  "kernelspec": {
   "display_name": "Python 3 (ipykernel)",
   "language": "python",
   "name": "python3"
  },
  "language_info": {
   "codemirror_mode": {
    "name": "ipython",
    "version": 3
   },
   "file_extension": ".py",
   "mimetype": "text/x-python",
   "name": "python",
   "nbconvert_exporter": "python",
   "pygments_lexer": "ipython3",
   "version": "3.9.12"
  }
 },
 "nbformat": 4,
 "nbformat_minor": 5
}
