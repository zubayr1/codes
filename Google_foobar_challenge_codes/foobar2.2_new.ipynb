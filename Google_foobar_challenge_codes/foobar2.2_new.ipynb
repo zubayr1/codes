{
 "cells": [
  {
   "cell_type": "code",
   "execution_count": 44,
   "id": "ba1c4efd",
   "metadata": {},
   "outputs": [],
   "source": []
  },
  {
   "cell_type": "code",
   "execution_count": 97,
   "id": "65a438be",
   "metadata": {},
   "outputs": [],
   "source": [
    "def solution(x, y):\n",
    "    prev_corner = x + y -2\n",
    "    return str(int(prev_corner*(1+prev_corner)/2) + x)  \n",
    "\n",
    "    \n"
   ]
  },
  {
   "cell_type": "code",
   "execution_count": 98,
   "id": "a6de5d70",
   "metadata": {},
   "outputs": [
    {
     "data": {
      "text/plain": [
       "'9'"
      ]
     },
     "execution_count": 98,
     "metadata": {},
     "output_type": "execute_result"
    }
   ],
   "source": [
    "solution(3, 2)"
   ]
  },
  {
   "cell_type": "code",
   "execution_count": null,
   "id": "d56881c1",
   "metadata": {},
   "outputs": [],
   "source": []
  }
 ],
 "metadata": {
  "kernelspec": {
   "display_name": "Python 3 (ipykernel)",
   "language": "python",
   "name": "python3"
  },
  "language_info": {
   "codemirror_mode": {
    "name": "ipython",
    "version": 3
   },
   "file_extension": ".py",
   "mimetype": "text/x-python",
   "name": "python",
   "nbconvert_exporter": "python",
   "pygments_lexer": "ipython3",
   "version": "3.9.12"
  }
 },
 "nbformat": 4,
 "nbformat_minor": 5
}
