{
 "cells": [
  {
   "cell_type": "code",
   "execution_count": 11,
   "id": "f90138e1",
   "metadata": {},
   "outputs": [],
   "source": [
    "def count(arr):\n",
    "    return len(arr)"
   ]
  },
  {
   "cell_type": "code",
   "execution_count": null,
   "id": "a6467591",
   "metadata": {},
   "outputs": [],
   "source": []
  },
  {
   "cell_type": "code",
   "execution_count": 18,
   "id": "87d4538f",
   "metadata": {},
   "outputs": [],
   "source": [
    "def solution(s):\n",
    "    arr = []\n",
    "    count=0\n",
    "    for i in s:\n",
    "        if i==\">\":\n",
    "            arr.append(i)\n",
    "        if i==\"<\":\n",
    "            count+=(len(arr)*2)\n",
    "            \n",
    "    return count"
   ]
  },
  {
   "cell_type": "code",
   "execution_count": 27,
   "id": "9c7e8dfd",
   "metadata": {},
   "outputs": [
    {
     "data": {
      "text/plain": [
       "10"
      ]
     },
     "execution_count": 27,
     "metadata": {},
     "output_type": "execute_result"
    }
   ],
   "source": [
    "solution(\">--<>--<<\")"
   ]
  },
  {
   "cell_type": "code",
   "execution_count": null,
   "id": "479e5465",
   "metadata": {},
   "outputs": [],
   "source": []
  }
 ],
 "metadata": {
  "kernelspec": {
   "display_name": "Python 3 (ipykernel)",
   "language": "python",
   "name": "python3"
  },
  "language_info": {
   "codemirror_mode": {
    "name": "ipython",
    "version": 3
   },
   "file_extension": ".py",
   "mimetype": "text/x-python",
   "name": "python",
   "nbconvert_exporter": "python",
   "pygments_lexer": "ipython3",
   "version": "3.9.12"
  }
 },
 "nbformat": 4,
 "nbformat_minor": 5
}
