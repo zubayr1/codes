{
 "cells": [
  {
   "cell_type": "code",
   "execution_count": null,
   "id": "4daa11d3",
   "metadata": {},
   "outputs": [],
   "source": [
    "'''\n",
    "You're so close to destroying the LAMBCHOP doomsday device you can taste it! But in order to do so, you need to deploy special self-replicating bombs designed for you by the brightest scientists on\n",
    "Bunny Planet. There are two types: Mach bombs (M) and Facula bombs (F). The bombs, once released into the LAMBCHOP's inner workings, will automatically deploy to all the strategic points you've\n",
    "identified and destroy them at the same time.\n",
    "\n",
    "But there's a few catches. First, the bombs self-replicate via one of two distinct processes: \n",
    "Every Mach bomb retrieves a sync unit from a Facula bomb; for every Mach bomb, a Facula bomb is created;\n",
    "Every Facula bomb spontaneously creates a Mach bomb.\n",
    "\n",
    "For example, if you had 3 Mach bombs and 2 Facula bombs, they could either produce 3 Mach bombs and 5 Facula bombs, or 5 Mach bombs and 2 Facula bombs. The replication process can be changed each cycle. \n",
    "\n",
    "Second, you need to ensure that you have exactly the right number of Mach and Facula bombs to destroy the LAMBCHOP device. Too few, and the device might survive. Too many, and you might overload the mass\n",
    "capacitors and create a singularity at the heart of the space station - not good!\n",
    "\n",
    "And finally, you were only able to smuggle one of each type of bomb - one Mach, one Facula - aboard the ship when you arrived, so that's all you have to start with. (Thus it may be impossible to deploy\n",
    "the bombs to destroy the LAMBCHOP, but that's not going to stop you from trying!)\n",
    "\n",
    "You need to know how many replication cycles (generations) it will take to generate the correct amount of bombs to destroy the LAMBCHOP. Write a function solution(M, F) where M and F are the number of Mach\n",
    "and Facula bombs needed. Return the fewest number of generations (as a string) that need to pass before you'll have the exact number of bombs necessary to destroy the LAMBCHOP, or the string\n",
    "\"impossible\" if this can't be done! M and F will be string representations of positive integers no larger than 10^50. For example, if M = \"2\" and F = \"1\", one generation\n",
    "would need to pass, so the solution would be \"1\". However, if M = \"2\" and F = \"4\", it would not be possible.\n",
    "\n",
    "Languages\n",
    "=========\n",
    "\n",
    "To provide a Java solution, edit Solution.java\n",
    "\n",
    "To provide a Python solution, edit solution.py\n",
    "\n",
    "Test cases\n",
    "==========\n",
    "\n",
    "Your code should pass the following test cases.\n",
    "Note that it may also be run against hidden test cases not shown here.\n",
    "\n",
    "-- Java cases --\n",
    "\n",
    "Input:\n",
    "Solution.solution('4', '7')\n",
    "Output:\n",
    "    4\n",
    "\n",
    "'''"
   ]
  },
  {
   "cell_type": "code",
   "execution_count": null,
   "id": "95a5b575",
   "metadata": {},
   "outputs": [],
   "source": []
  },
  {
   "cell_type": "code",
   "execution_count": 29,
   "id": "5d5f5a3b",
   "metadata": {},
   "outputs": [],
   "source": [
    "def operation(lis, M, F, count):\n",
    "    count+=1\n",
    "    newlis=[]       \n",
    "    \n",
    "    if len(lis)==0:\n",
    "        return \"impossible\"\n",
    "        \n",
    "    for i in lis:\n",
    "        (m,f) = i\n",
    "        \n",
    "        if m==M and f==F:\n",
    "            return count\n",
    "        if m<=M and f<=F:\n",
    "            newlis.append((m+f,f))\n",
    "            newlis.append((m,m+f))\n",
    "            \n",
    "        if m>M and f>F:\n",
    "            return \"impossible\"\n",
    "    \n",
    "    return operation(newlis, M, F, count)"
   ]
  },
  {
   "cell_type": "code",
   "execution_count": 30,
   "id": "a32f8561",
   "metadata": {},
   "outputs": [],
   "source": [
    "def solution(m, f):\n",
    "    start_m = 1\n",
    "    start_f = 1\n",
    "    lis = [(start_m, start_f)]\n",
    "    return str(operation(lis, int(m), int(f), -1))\n",
    "    \n"
   ]
  },
  {
   "cell_type": "code",
   "execution_count": 36,
   "id": "7b02ec1e",
   "metadata": {},
   "outputs": [
    {
     "name": "stdout",
     "output_type": "stream",
     "text": [
      "impossible\n"
     ]
    }
   ],
   "source": [
    "print(solution('1000000000000000', '2000000000000000'))"
   ]
  },
  {
   "cell_type": "code",
   "execution_count": null,
   "id": "acd81594",
   "metadata": {},
   "outputs": [],
   "source": []
  },
  {
   "cell_type": "code",
   "execution_count": null,
   "id": "8f775a34",
   "metadata": {},
   "outputs": [],
   "source": []
  },
  {
   "cell_type": "code",
   "execution_count": 56,
   "id": "1db1af23",
   "metadata": {},
   "outputs": [],
   "source": [
    "def solution(m, f):\n",
    "    m = int(m)\n",
    "    f = int(f)\n",
    "    \n",
    "    count = 0\n",
    "    \n",
    "    while min(m,f)!=1:\n",
    "        if min(m, f)<1:\n",
    "            return \"impossible\"\n",
    "        \n",
    "        count+=int(max(m,f)/min(m,f))\n",
    "        \n",
    "        (m,f) = min(m,f), max(m,f)%min(m,f)\n",
    "    \n",
    "    return str(count + max(m,f) - 1)"
   ]
  },
  {
   "cell_type": "code",
   "execution_count": null,
   "id": "5851b0fd",
   "metadata": {},
   "outputs": [],
   "source": []
  },
  {
   "cell_type": "code",
   "execution_count": null,
   "id": "8dbc119e",
   "metadata": {},
   "outputs": [],
   "source": []
  },
  {
   "cell_type": "code",
   "execution_count": null,
   "id": "6e449702",
   "metadata": {},
   "outputs": [],
   "source": []
  }
 ],
 "metadata": {
  "kernelspec": {
   "display_name": "Python 3 (ipykernel)",
   "language": "python",
   "name": "python3"
  },
  "language_info": {
   "codemirror_mode": {
    "name": "ipython",
    "version": 3
   },
   "file_extension": ".py",
   "mimetype": "text/x-python",
   "name": "python",
   "nbconvert_exporter": "python",
   "pygments_lexer": "ipython3",
   "version": "3.9.12"
  }
 },
 "nbformat": 4,
 "nbformat_minor": 5
}
