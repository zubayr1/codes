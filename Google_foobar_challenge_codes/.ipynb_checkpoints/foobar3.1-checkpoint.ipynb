{
 "cells": [
  {
   "cell_type": "code",
   "execution_count": null,
   "id": "1d568586",
   "metadata": {},
   "outputs": [],
   "source": [
    "'''\n",
    "The Grandest Staircase Of Them All\n",
    "==================================\n",
    "\n",
    "With the LAMBCHOP doomsday device finished, Commander Lambda is preparing to debut on the galactic stage -- but in order to make a grand entrance, Lambda needs a grand staircase! As the Commander's\n",
    "personal assistant, you've been tasked with figuring out how to build the best staircase EVER.\n",
    "\n",
    "Lambda has given you an overview of the types of bricks available, plus a budget. You can buy different amounts of the different types of bricks (for example, 3 little pink bricks, or 5 blue lace bricks).\n",
    "Commander Lambda wants to know how many different types of staircases can be built with each amount of bricks, so they can pick the one with the most options.\n",
    "\n",
    "Each type of staircase should consist of 2 or more steps.  No two steps are allowed to be at the same height - each step must be lower than the previous one. All steps must contain at least one brick. A\n",
    "step's height is classified as the total amount of bricks that make up that step.\n",
    "For example, when N = 3, you have only 1 choice of how to build the staircase, with the first step having a height of 2 and the second step having a height of 1: (# indicates a brick)\n",
    "\n",
    "#\n",
    "##\n",
    "21\n",
    "\n",
    "When N = 4, you still only have 1 staircase choice:\n",
    "\n",
    "#\n",
    "#\n",
    "##\n",
    "31\n",
    "    \n",
    "But when N = 5, there are two ways you can build a staircase from the given bricks. The two staircases can have heights (4, 1) or (3, 2), as shown below:\n",
    "\n",
    "#\n",
    "#\n",
    "#\n",
    "##\n",
    "41\n",
    "\n",
    "#\n",
    "##\n",
    "##\n",
    "32\n",
    "\n",
    "Write a function called solution(n) that takes a positive integer n and returns the number of different staircases that can be built from exactly n bricks. n will always be at least 3 (so you can have a\n",
    "staircase at all), but no more than 200, because Commander Lambda's not made of money!\n",
    "\n",
    "Languages\n",
    "=========\n",
    "\n",
    "To provide a Java solution, edit Solution.java\n",
    "\n",
    "To provide a Python solution, edit solution.py\n",
    "\n",
    "Test cases\n",
    "==========\n",
    "\n",
    "Your code should pass the following test cases.\n",
    "Note that it may also be run against hidden test cases not shown here.\n",
    "\n",
    "-- Java cases --\n",
    "    \n",
    "Input:\n",
    "Solution.solution(200)\n",
    "Output:\n",
    "    487067745\n",
    "\n",
    "Input:\n",
    "Solution.solution(3)\n",
    "Output:\n",
    "    1\n",
    "\n",
    "-- Python cases --\n",
    "\n",
    "Input:\n",
    "solution.solution(200)\n",
    "Output:\n",
    "    487067745\n",
    "\n",
    "Input:\n",
    "solution.solution(3)\n",
    "Output:\n",
    "    1\n",
    ":\n",
    "'''\n"
   ]
  },
  {
   "cell_type": "code",
   "execution_count": null,
   "id": "39f12cd0",
   "metadata": {},
   "outputs": [],
   "source": []
  },
  {
   "cell_type": "code",
   "execution_count": 1,
   "id": "f1b1ef30",
   "metadata": {},
   "outputs": [],
   "source": [
    "def make_stairs(n, i, lis):    \n",
    "    if n-i<=1:\n",
    "        return lis\n",
    "    \n",
    "    if i<n-i:\n",
    "        lis.append([i, (n-i)])\n",
    "        \n",
    "    child_lis = make_stairs(i, 1, [])\n",
    "    for v in child_lis:\n",
    "        if v[0]<n-i and (n-i) not in v:\n",
    "            v.append(n-i)\n",
    "            v.sort()\n",
    "            if v not in lis:\n",
    "                lis.append(v)\n",
    "    return make_stairs(n, i+1, lis)"
   ]
  },
  {
   "cell_type": "code",
   "execution_count": 2,
   "id": "577ba8a6",
   "metadata": {},
   "outputs": [
    {
     "name": "stdout",
     "output_type": "stream",
     "text": [
      "[[1, 11], [2, 10], [3, 9], [1, 2, 9], [4, 8], [1, 3, 8], [5, 7], [1, 4, 7], [2, 3, 7], [1, 5, 6], [2, 4, 6], [1, 2, 3, 6], [3, 4, 5], [1, 2, 4, 5]]\n",
      "14\n"
     ]
    }
   ],
   "source": [
    "print(make_stairs(12, 1, [], 1))\n",
    "\n",
    "print(len(make_stairs(12, 1, [], 1)))"
   ]
  },
  {
   "cell_type": "code",
   "execution_count": null,
   "id": "2d9449a5",
   "metadata": {},
   "outputs": [],
   "source": []
  },
  {
   "cell_type": "code",
   "execution_count": null,
   "id": "e1d9dde3",
   "metadata": {},
   "outputs": [],
   "source": []
  },
  {
   "cell_type": "code",
   "execution_count": null,
   "id": "50c3de52",
   "metadata": {},
   "outputs": [],
   "source": [
    "def solution(n):\n",
    "    return len(make_stairs(n, 1, []))"
   ]
  },
  {
   "cell_type": "code",
   "execution_count": null,
   "id": "3a91e609",
   "metadata": {},
   "outputs": [],
   "source": []
  }
 ],
 "metadata": {
  "kernelspec": {
   "display_name": "Python 3 (ipykernel)",
   "language": "python",
   "name": "python3"
  },
  "language_info": {
   "codemirror_mode": {
    "name": "ipython",
    "version": 3
   },
   "file_extension": ".py",
   "mimetype": "text/x-python",
   "name": "python",
   "nbconvert_exporter": "python",
   "pygments_lexer": "ipython3",
   "version": "3.9.12"
  }
 },
 "nbformat": 4,
 "nbformat_minor": 5
}
