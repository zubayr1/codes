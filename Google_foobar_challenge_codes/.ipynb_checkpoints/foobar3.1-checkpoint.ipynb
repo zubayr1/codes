{
 "cells": [
  {
   "cell_type": "code",
   "execution_count": null,
   "id": "1d568586",
   "metadata": {},
   "outputs": [],
   "source": [
    "'''\n",
    "The Grandest Staircase Of Them All\n",
    "==================================\n",
    "\n",
    "With the LAMBCHOP doomsday device finished, Commander Lambda is preparing to debut on the galactic stage -- but in order to make a grand entrance, Lambda needs a grand staircase! As the Commander's\n",
    "personal assistant, you've been tasked with figuring out how to build the best staircase EVER.\n",
    "\n",
    "Lambda has given you an overview of the types of bricks available, plus a budget. You can buy different amounts of the different types of bricks (for example, 3 little pink bricks, or 5 blue lace bricks).\n",
    "Commander Lambda wants to know how many different types of staircases can be built with each amount of bricks, so they can pick the one with the most options.\n",
    "\n",
    "Each type of staircase should consist of 2 or more steps.  No two steps are allowed to be at the same height - each step must be lower than the previous one. All steps must contain at least one brick. A\n",
    "step's height is classified as the total amount of bricks that make up that step.\n",
    "For example, when N = 3, you have only 1 choice of how to build the staircase, with the first step having a height of 2 and the second step having a height of 1: (# indicates a brick)\n",
    "\n",
    "#\n",
    "##\n",
    "21\n",
    "\n",
    "When N = 4, you still only have 1 staircase choice:\n",
    "\n",
    "#\n",
    "#\n",
    "##\n",
    "31\n",
    "    \n",
    "But when N = 5, there are two ways you can build a staircase from the given bricks. The two staircases can have heights (4, 1) or (3, 2), as shown below:\n",
    "\n",
    "#\n",
    "#\n",
    "#\n",
    "##\n",
    "41\n",
    "\n",
    "#\n",
    "##\n",
    "##\n",
    "32\n",
    "\n",
    "Write a function called solution(n) that takes a positive integer n and returns the number of different staircases that can be built from exactly n bricks. n will always be at least 3 (so you can have a\n",
    "staircase at all), but no more than 200, because Commander Lambda's not made of money!\n",
    "\n",
    "Languages\n",
    "=========\n",
    "\n",
    "To provide a Java solution, edit Solution.java\n",
    "\n",
    "To provide a Python solution, edit solution.py\n",
    "\n",
    "Test cases\n",
    "==========\n",
    "\n",
    "Your code should pass the following test cases.\n",
    "Note that it may also be run against hidden test cases not shown here.\n",
    "\n",
    "-- Java cases --\n",
    "    \n",
    "Input:\n",
    "Solution.solution(200)\n",
    "Output:\n",
    "    487067745\n",
    "\n",
    "Input:\n",
    "Solution.solution(3)\n",
    "Output:\n",
    "    1\n",
    "\n",
    "-- Python cases --\n",
    "\n",
    "Input:\n",
    "solution.solution(200)\n",
    "Output:\n",
    "    487067745\n",
    "\n",
    "Input:\n",
    "solution.solution(3)\n",
    "Output:\n",
    "    1\n",
    ":\n",
    "'''\n"
   ]
  },
  {
   "cell_type": "code",
   "execution_count": 26,
   "id": "7d58c1dd",
   "metadata": {},
   "outputs": [],
   "source": [
    "def make_stairs(n, i, child_lis, lis):  \n",
    "        \n",
    "    if i>=(n-i):\n",
    "        child_lis.append(n-i) \n",
    "        child_lis.append(i)\n",
    "        lis.append(child_lis)\n",
    "        return lis    \n",
    "    \n",
    "    child_lis.append(n-i) \n",
    "    child_lis.append(i)\n",
    "    lis.append(child_lis)    \n",
    "    \n",
    "    if i>=3:\n",
    "        child_lis.pop(1)\n",
    "        return make_stairs(n, i+1, [], lis) +  make_stairs(i, 1, child_lis, lis)\n",
    "    return make_stairs(n, i+1, [], lis)\n",
    "    \n"
   ]
  },
  {
   "cell_type": "code",
   "execution_count": 27,
   "id": "d25a1f28",
   "metadata": {},
   "outputs": [
    {
     "name": "stdout",
     "output_type": "stream",
     "text": [
      "[[2, 1], [1, 2]]\n"
     ]
    }
   ],
   "source": [
    "lis = make_stairs(3, 1, [], [])\n",
    "\n",
    "print(lis)"
   ]
  },
  {
   "cell_type": "code",
   "execution_count": 33,
   "id": "c7b1de54",
   "metadata": {},
   "outputs": [
    {
     "data": {
      "text/plain": [
       "2"
      ]
     },
     "execution_count": 33,
     "metadata": {},
     "output_type": "execute_result"
    }
   ],
   "source": [
    "lis=[1,2,3]\n",
    "lis.pop(1)"
   ]
  },
  {
   "cell_type": "code",
   "execution_count": null,
   "id": "a1a806aa",
   "metadata": {},
   "outputs": [],
   "source": []
  },
  {
   "cell_type": "code",
   "execution_count": 1,
   "id": "0bd5be71",
   "metadata": {},
   "outputs": [],
   "source": [
    "def child_stairs(n, i, lis):\n",
    "    if i>=n-i or n<=3:        \n",
    "        lis.append([(n-i), i])\n",
    "        return lis\n",
    "    \n",
    "    lis.append([(n-i), i])\n",
    "    \n",
    "    return child_stairs(n, i+1, lis)"
   ]
  },
  {
   "cell_type": "code",
   "execution_count": 1,
   "id": "d8d2301a",
   "metadata": {},
   "outputs": [],
   "source": [
    "def make_stairs(n, i, lis):    \n",
    "    if i>=n-i or n<=3:        \n",
    "        if i!=n-i:\n",
    "            lis.append([(n-i), i])        \n",
    "        return lis\n",
    "    \n",
    "    if i!=n-i:\n",
    "        lis.append([(n-i), i])\n",
    "    if i>=3:\n",
    "        child_lis = make_stairs(i, 1, [])\n",
    "        for v in child_lis:\n",
    "            lis.append([(n-i), v])\n",
    "    return make_stairs(n, i+1, lis)"
   ]
  },
  {
   "cell_type": "code",
   "execution_count": 2,
   "id": "922b8384",
   "metadata": {},
   "outputs": [
    {
     "name": "stdout",
     "output_type": "stream",
     "text": [
      "[[9, 1], [8, 2], [7, 3], [7, [2, 1]], [6, 4], [6, [3, 1]]]\n"
     ]
    }
   ],
   "source": [
    "print(make_stairs(10, 1, []))"
   ]
  },
  {
   "cell_type": "code",
   "execution_count": null,
   "id": "2dc39966",
   "metadata": {},
   "outputs": [],
   "source": []
  },
  {
   "cell_type": "code",
   "execution_count": null,
   "id": "d4bcce11",
   "metadata": {},
   "outputs": [],
   "source": []
  },
  {
   "cell_type": "code",
   "execution_count": null,
   "id": "269e5c9a",
   "metadata": {},
   "outputs": [],
   "source": []
  },
  {
   "cell_type": "code",
   "execution_count": 4,
   "id": "ee9bb6f1",
   "metadata": {},
   "outputs": [],
   "source": [
    "def findCombinationsUtil(arr, index, num,\n",
    "                              reducedNum):\n",
    " \n",
    "    if (reducedNum < 0):\n",
    "        return\n",
    "\n",
    "    if (reducedNum == 0): \n",
    "        for i in range(index):\n",
    "            print(arr[i], end = \" \")\n",
    "        print(\"\")\n",
    "        return\n",
    " \n",
    "    # Find the previous number stored in arr[].\n",
    "    # It helps in maintaining increasing order\n",
    "    prev = 1 if(index == 0) else arr[index - 1]\n",
    " \n",
    "    # note loop starts from previous\n",
    "    # number i.e. at array location\n",
    "    # index - 1\n",
    "    for k in range(prev, num + 1):\n",
    "         \n",
    "        # next element of array is k\n",
    "        arr[index] = k\n",
    " \n",
    "        # call recursively with\n",
    "        # reduced number\n",
    "        findCombinationsUtil(arr, index + 1, num,\n",
    "                                 reducedNum - k)\n",
    " "
   ]
  },
  {
   "cell_type": "code",
   "execution_count": 5,
   "id": "a2a220c9",
   "metadata": {},
   "outputs": [
    {
     "name": "stdout",
     "output_type": "stream",
     "text": [
      "1 1 1 1 1 \n",
      "1 1 1 2 \n",
      "1 1 3 \n",
      "1 2 2 \n",
      "1 4 \n",
      "2 3 \n",
      "5 \n"
     ]
    }
   ],
   "source": [
    "def findCombinations(n):\n",
    "\n",
    "    arr = [0] * n \n",
    "    findCombinationsUtil(arr, 0, n, n)\n",
    " \n",
    "# Driver code\n",
    "n = 5;\n",
    "findCombinations(n);"
   ]
  },
  {
   "cell_type": "code",
   "execution_count": null,
   "id": "8c234131",
   "metadata": {},
   "outputs": [],
   "source": []
  }
 ],
 "metadata": {
  "kernelspec": {
   "display_name": "Python 3 (ipykernel)",
   "language": "python",
   "name": "python3"
  },
  "language_info": {
   "codemirror_mode": {
    "name": "ipython",
    "version": 3
   },
   "file_extension": ".py",
   "mimetype": "text/x-python",
   "name": "python",
   "nbconvert_exporter": "python",
   "pygments_lexer": "ipython3",
   "version": "3.9.12"
  }
 },
 "nbformat": 4,
 "nbformat_minor": 5
}
