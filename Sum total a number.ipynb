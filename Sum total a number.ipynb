{
 "cells": [
  {
   "cell_type": "code",
   "execution_count": 23,
   "id": "75a904f1",
   "metadata": {},
   "outputs": [
    {
     "name": "stdout",
     "output_type": "stream",
     "text": [
      "17\n",
      "1 5 2\n",
      "[5, 2, 1, 5, 2, 2]\n"
     ]
    }
   ],
   "source": [
    "#given a list, and a number; take \n",
    "\n",
    "def makesum(n, arr, resultarr):\n",
    "    for i in arr:\n",
    "        if sum(resultarr)==n:\n",
    "            return resultarr\n",
    "        \n",
    "        resultarr.append(i)\n",
    "        if sum(resultarr)==n:\n",
    "            return resultarr\n",
    "        elif sum(resultarr)<n:\n",
    "            makesum(n, arr, resultarr)\n",
    "        else:\n",
    "            resultarr.pop(len(resultarr)-1)\n",
    "    \n",
    "    \n",
    "\n",
    "\n",
    "\n",
    "n = int(input())\n",
    "\n",
    "arr = [int(i) for i in input().split()]\n",
    "\n",
    "\n",
    "arr.sort(reverse=True)\n",
    "resultarr = arr\n",
    "print(makesum(n, arr, resultarr))"
   ]
  },
  {
   "cell_type": "code",
   "execution_count": null,
   "id": "f8c8f545",
   "metadata": {},
   "outputs": [],
   "source": []
  },
  {
   "cell_type": "code",
   "execution_count": null,
   "id": "f8f04768",
   "metadata": {},
   "outputs": [],
   "source": []
  }
 ],
 "metadata": {
  "kernelspec": {
   "display_name": "Python 3 (ipykernel)",
   "language": "python",
   "name": "python3"
  },
  "language_info": {
   "codemirror_mode": {
    "name": "ipython",
    "version": 3
   },
   "file_extension": ".py",
   "mimetype": "text/x-python",
   "name": "python",
   "nbconvert_exporter": "python",
   "pygments_lexer": "ipython3",
   "version": "3.9.12"
  }
 },
 "nbformat": 4,
 "nbformat_minor": 5
}
