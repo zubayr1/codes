{
 "cells": [
  {
   "cell_type": "code",
   "execution_count": 25,
   "id": "f44730eb",
   "metadata": {},
   "outputs": [
    {
     "name": "stdout",
     "output_type": "stream",
     "text": [
      "5 3\n",
      "5 3 1 5 2\n",
      "3 2\n",
      "1 1\n",
      "5 3\n",
      "8\n",
      "5\n",
      "6\n",
      "\n"
     ]
    }
   ],
   "source": [
    "# The store sells n items, the price of the i-th item is pi. The store's management is going to hold a promotion: if a customer purchases at least x items, y cheapest of them are free.\n",
    "\n",
    "# The management has not yet decided on the exact values of x and y. Therefore, they ask you to process q queries: for the given values of x and y, determine the maximum total value of items received for free, if a customer makes one purchase.\n",
    "\n",
    "# Note that all queries are independent; they don't affect the store's stock.\n",
    "\n",
    "\n",
    "\n",
    "N, T = [int(i) for i in input().split()]\n",
    "\n",
    "p = [int(j) for j in input().split()]\n",
    "p.sort(reverse=True)\n",
    "\n",
    "RES = ''\n",
    "\n",
    "cumsum = [0]*N\n",
    "\n",
    "cumsum[0] = p[0]\n",
    "\n",
    "for i in range(1, N):\n",
    "    cumsum[i] = cumsum[i-1] + p[i]\n",
    "    \n",
    "for i in range(T):    \n",
    "    \n",
    "    x,y = [int(j) for j in input().split()]\n",
    "    \n",
    "    if x==1:\n",
    "        RES+=str(cumsum[0])+ '\\n'\n",
    "    elif x==y:\n",
    "        RES+=str(cumsum[x-1])+ '\\n'\n",
    "    else:\n",
    "        RES+= str(cumsum[x-1] - cumsum[x-y-1]) + '\\n'\n",
    "    \n",
    "print(RES)"
   ]
  }
 ],
 "metadata": {
  "kernelspec": {
   "display_name": "Python 3 (ipykernel)",
   "language": "python",
   "name": "python3"
  },
  "language_info": {
   "codemirror_mode": {
    "name": "ipython",
    "version": 3
   },
   "file_extension": ".py",
   "mimetype": "text/x-python",
   "name": "python",
   "nbconvert_exporter": "python",
   "pygments_lexer": "ipython3",
   "version": "3.9.12"
  }
 },
 "nbformat": 4,
 "nbformat_minor": 5
}
