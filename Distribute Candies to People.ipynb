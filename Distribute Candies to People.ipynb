{
 "cells": [
  {
   "cell_type": "code",
   "execution_count": 46,
   "id": "ef4ef090",
   "metadata": {},
   "outputs": [],
   "source": [
    "class Solution:\n",
    "    def distributeCandies(self, candies: int, num_people: int) -> list[int]:\n",
    "        candy_count=1\n",
    "        can_arr = [0 for _ in range(num_people)]\n",
    "        \n",
    "        \n",
    "        while(candies>candy_count):\n",
    "            can_arr[candy_count%num_people -1]+=candy_count\n",
    "            candies-=candy_count\n",
    "            candy_count+=1\n",
    "        \n",
    "        can_arr[candy_count%num_people -1]+=candies\n",
    "        return can_arr"
   ]
  },
  {
   "cell_type": "code",
   "execution_count": 48,
   "id": "0453a535",
   "metadata": {},
   "outputs": [
    {
     "data": {
      "text/plain": [
       "[5, 2, 3]"
      ]
     },
     "execution_count": 48,
     "metadata": {},
     "output_type": "execute_result"
    }
   ],
   "source": [
    "instance = Solution()\n",
    "\n",
    "instance.distributeCandies(10, 3)\n",
    "\n"
   ]
  },
  {
   "cell_type": "code",
   "execution_count": null,
   "id": "8cef2769",
   "metadata": {},
   "outputs": [],
   "source": []
  },
  {
   "cell_type": "code",
   "execution_count": null,
   "id": "dafca158",
   "metadata": {},
   "outputs": [],
   "source": []
  }
 ],
 "metadata": {
  "kernelspec": {
   "display_name": "Python 3 (ipykernel)",
   "language": "python",
   "name": "python3"
  },
  "language_info": {
   "codemirror_mode": {
    "name": "ipython",
    "version": 3
   },
   "file_extension": ".py",
   "mimetype": "text/x-python",
   "name": "python",
   "nbconvert_exporter": "python",
   "pygments_lexer": "ipython3",
   "version": "3.9.12"
  }
 },
 "nbformat": 4,
 "nbformat_minor": 5
}
