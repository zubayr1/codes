{
 "cells": [
  {
   "cell_type": "code",
   "execution_count": 1,
   "id": "2427ce14",
   "metadata": {},
   "outputs": [
    {
     "name": "stdout",
     "output_type": "stream",
     "text": [
      "4\n",
      "0 0\n",
      "1 0\n",
      "1 1\n",
      "3 2\n",
      "Case #1: 0\n",
      "Case #2: 0\n",
      "Case #3: 1\n",
      "Case #4: 3\n",
      "\n"
     ]
    }
   ],
   "source": [
    "t = int(input())\n",
    "\n",
    "RES=\"\"\n",
    "for i in range(t):\n",
    "    l, r = [int(j) for j in input().split()]\n",
    "    \n",
    "    if l==0 or r==0:\n",
    "        RES+=  \"Case #\"+str(i+1)+\": \"+\"0\"+'\\n'\n",
    "    else:\n",
    "        p = min(l,r)\n",
    "        RES+=  \"Case #\"+str(i+1)+\": \"+str(int(p*(p+1)/2))+'\\n'\n",
    "        \n",
    "print(RES)"
   ]
  },
  {
   "cell_type": "code",
   "execution_count": null,
   "id": "13c58b13",
   "metadata": {},
   "outputs": [],
   "source": []
  }
 ],
 "metadata": {
  "kernelspec": {
   "display_name": "Python 3 (ipykernel)",
   "language": "python",
   "name": "python3"
  },
  "language_info": {
   "codemirror_mode": {
    "name": "ipython",
    "version": 3
   },
   "file_extension": ".py",
   "mimetype": "text/x-python",
   "name": "python",
   "nbconvert_exporter": "python",
   "pygments_lexer": "ipython3",
   "version": "3.9.12"
  }
 },
 "nbformat": 4,
 "nbformat_minor": 5
}
