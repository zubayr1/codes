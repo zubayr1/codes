{
 "cells": [
  {
   "cell_type": "code",
   "execution_count": 49,
   "id": "6b8062ce",
   "metadata": {},
   "outputs": [],
   "source": [
    "class Solution:\n",
    "    def totalMoney(self, n: int) -> int:\n",
    "        times = int(n/7)\n",
    "\n",
    "        if times<1:\n",
    "            return int(n*(n+1)/2)\n",
    "        rem = n%7\n",
    "                \n",
    "        val1 = times*28 + int(7*times*(times-1)/2)\n",
    "               \n",
    "        val2 = int(rem/2*(2*(times+1) + rem -1))\n",
    "        \n",
    "        return val1 + val2"
   ]
  },
  {
   "cell_type": "code",
   "execution_count": 50,
   "id": "aefd92b4",
   "metadata": {},
   "outputs": [
    {
     "data": {
      "text/plain": [
       "96"
      ]
     },
     "execution_count": 50,
     "metadata": {},
     "output_type": "execute_result"
    }
   ],
   "source": [
    "instance = Solution()\n",
    "\n",
    "instance.totalMoney(20)"
   ]
  },
  {
   "cell_type": "code",
   "execution_count": null,
   "id": "1a7356df",
   "metadata": {},
   "outputs": [],
   "source": []
  }
 ],
 "metadata": {
  "kernelspec": {
   "display_name": "Python 3 (ipykernel)",
   "language": "python",
   "name": "python3"
  },
  "language_info": {
   "codemirror_mode": {
    "name": "ipython",
    "version": 3
   },
   "file_extension": ".py",
   "mimetype": "text/x-python",
   "name": "python",
   "nbconvert_exporter": "python",
   "pygments_lexer": "ipython3",
   "version": "3.9.12"
  }
 },
 "nbformat": 4,
 "nbformat_minor": 5
}
