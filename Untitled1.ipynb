{
 "cells": [
  {
   "cell_type": "code",
   "execution_count": 1,
   "id": "b883b124",
   "metadata": {},
   "outputs": [
    {
     "ename": "MemoryError",
     "evalue": "",
     "output_type": "error",
     "traceback": [
      "\u001b[1;31m---------------------------------------------------------------------------\u001b[0m",
      "\u001b[1;31mMemoryError\u001b[0m                               Traceback (most recent call last)",
      "Input \u001b[1;32mIn [1]\u001b[0m, in \u001b[0;36m<cell line: 3>\u001b[1;34m()\u001b[0m\n\u001b[0;32m      1\u001b[0m \u001b[38;5;28;01mfrom\u001b[39;00m \u001b[38;5;21;01mitertools\u001b[39;00m \u001b[38;5;28;01mimport\u001b[39;00m product\n\u001b[0;32m      2\u001b[0m \u001b[38;5;28;01mfrom\u001b[39;00m \u001b[38;5;21;01mstring\u001b[39;00m \u001b[38;5;28;01mimport\u001b[39;00m ascii_lowercase\n\u001b[1;32m----> 3\u001b[0m keywords \u001b[38;5;241m=\u001b[39m [\u001b[38;5;124m'\u001b[39m\u001b[38;5;124m'\u001b[39m\u001b[38;5;241m.\u001b[39mjoin(i) \u001b[38;5;28;01mfor\u001b[39;00m i \u001b[38;5;129;01min\u001b[39;00m product(ascii_lowercase, repeat \u001b[38;5;241m=\u001b[39m \u001b[38;5;241m7\u001b[39m)]\n",
      "Input \u001b[1;32mIn [1]\u001b[0m, in \u001b[0;36m<listcomp>\u001b[1;34m(.0)\u001b[0m\n\u001b[0;32m      1\u001b[0m \u001b[38;5;28;01mfrom\u001b[39;00m \u001b[38;5;21;01mitertools\u001b[39;00m \u001b[38;5;28;01mimport\u001b[39;00m product\n\u001b[0;32m      2\u001b[0m \u001b[38;5;28;01mfrom\u001b[39;00m \u001b[38;5;21;01mstring\u001b[39;00m \u001b[38;5;28;01mimport\u001b[39;00m ascii_lowercase\n\u001b[1;32m----> 3\u001b[0m keywords \u001b[38;5;241m=\u001b[39m [\u001b[38;5;124m'\u001b[39m\u001b[38;5;124m'\u001b[39m\u001b[38;5;241m.\u001b[39mjoin(i) \u001b[38;5;28;01mfor\u001b[39;00m i \u001b[38;5;129;01min\u001b[39;00m product(ascii_lowercase, repeat \u001b[38;5;241m=\u001b[39m \u001b[38;5;241m7\u001b[39m)]\n",
      "\u001b[1;31mMemoryError\u001b[0m: "
     ]
    }
   ],
   "source": [
    "from itertools import product\n",
    "from string import ascii_lowercase\n",
    "keywords = [''.join(i) for i in product(ascii_lowercase, repeat = 7)]\n"
   ]
  },
  {
   "cell_type": "code",
   "execution_count": null,
   "id": "ab8d2335",
   "metadata": {},
   "outputs": [],
   "source": [
    "import hashlib\n",
    "\n",
    "\n",
    "for line1 in keywords:\n",
    "    for i in range(1000,9999):\n",
    "        password =  line1.strip().title() +str(i)\n",
    "        \n",
    "\n",
    "        result = hashlib.md5(password.encode('utf-8')).hexdigest()\n",
    "\n",
    "\n",
    "        if result==\"6eb1bfd42f704f36262d05485a456346\":\n",
    "            print(password)"
   ]
  },
  {
   "cell_type": "code",
   "execution_count": 6,
   "id": "9cd3035d",
   "metadata": {},
   "outputs": [
    {
     "ename": "KeyboardInterrupt",
     "evalue": "",
     "output_type": "error",
     "traceback": [
      "\u001b[1;31m---------------------------------------------------------------------------\u001b[0m",
      "\u001b[1;31mKeyboardInterrupt\u001b[0m                         Traceback (most recent call last)",
      "Input \u001b[1;32mIn [6]\u001b[0m, in \u001b[0;36m<cell line: 3>\u001b[1;34m()\u001b[0m\n\u001b[0;32m      9\u001b[0m \u001b[38;5;28;01mfor\u001b[39;00m i7 \u001b[38;5;129;01min\u001b[39;00m ascii_lowercase:\n\u001b[0;32m     10\u001b[0m     \u001b[38;5;28;01mfor\u001b[39;00m i8 \u001b[38;5;129;01min\u001b[39;00m \u001b[38;5;28mrange\u001b[39m(\u001b[38;5;241m1000\u001b[39m,\u001b[38;5;241m9999\u001b[39m):\n\u001b[1;32m---> 11\u001b[0m         password \u001b[38;5;241m=\u001b[39m  i1\u001b[38;5;241m.\u001b[39mstrip()\u001b[38;5;241m.\u001b[39mtitle()\u001b[38;5;241m+\u001b[39mi1\u001b[38;5;241m.\u001b[39mstrip()\u001b[38;5;241m+\u001b[39mi2\u001b[38;5;241m.\u001b[39mstrip()\u001b[38;5;241m+\u001b[39mi3\u001b[38;5;241m.\u001b[39mstrip()\u001b[38;5;241m+\u001b[39mi4\u001b[38;5;241m.\u001b[39mstrip()\u001b[38;5;241m+\u001b[39m\u001b[43mi5\u001b[49m\u001b[38;5;241;43m.\u001b[39;49m\u001b[43mstrip\u001b[49m()\u001b[38;5;241m+\u001b[39mi6\u001b[38;5;241m.\u001b[39mstrip()\u001b[38;5;241m+\u001b[39m i7\u001b[38;5;241m.\u001b[39mstrip() \u001b[38;5;241m+\u001b[39m\u001b[38;5;28mstr\u001b[39m(i8)\n\u001b[0;32m     13\u001b[0m         result \u001b[38;5;241m=\u001b[39m hashlib\u001b[38;5;241m.\u001b[39mmd5(password\u001b[38;5;241m.\u001b[39mencode(\u001b[38;5;124m'\u001b[39m\u001b[38;5;124mutf-8\u001b[39m\u001b[38;5;124m'\u001b[39m))\u001b[38;5;241m.\u001b[39mhexdigest()\n\u001b[0;32m     16\u001b[0m         \u001b[38;5;28;01mif\u001b[39;00m result\u001b[38;5;241m==\u001b[39m\u001b[38;5;124m\"\u001b[39m\u001b[38;5;124m6eb1bfd42f704f36262d05485a456346\u001b[39m\u001b[38;5;124m\"\u001b[39m:\n",
      "\u001b[1;31mKeyboardInterrupt\u001b[0m: "
     ]
    }
   ],
   "source": [
    "import hashlib\n",
    "\n",
    "for i1 in ascii_lowercase:\n",
    "    for i2 in ascii_lowercase:\n",
    "        for i3 in ascii_lowercase:\n",
    "            for i4 in ascii_lowercase:\n",
    "                for i5 in ascii_lowercase:\n",
    "                    for i6 in ascii_lowercase:\n",
    "                        for i7 in ascii_lowercase:\n",
    "                            for i8 in range(1000,9999):\n",
    "                                password =  i1.strip().title()+i1.strip()+i2.strip()+i3.strip()+i4.strip()+i5.strip()+i6.strip()+ i7.strip() +str(i8)\n",
    "\n",
    "                                result = hashlib.md5(password.encode('utf-8')).hexdigest()\n",
    "\n",
    "\n",
    "                                if result==\"6eb1bfd42f704f36262d05485a456346\":\n",
    "                                    print(password)"
   ]
  },
  {
   "cell_type": "code",
   "execution_count": null,
   "id": "be133abe",
   "metadata": {},
   "outputs": [],
   "source": []
  }
 ],
 "metadata": {
  "kernelspec": {
   "display_name": "Python 3 (ipykernel)",
   "language": "python",
   "name": "python3"
  },
  "language_info": {
   "codemirror_mode": {
    "name": "ipython",
    "version": 3
   },
   "file_extension": ".py",
   "mimetype": "text/x-python",
   "name": "python",
   "nbconvert_exporter": "python",
   "pygments_lexer": "ipython3",
   "version": "3.9.12"
  }
 },
 "nbformat": 4,
 "nbformat_minor": 5
}
