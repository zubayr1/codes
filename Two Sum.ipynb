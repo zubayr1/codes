{
 "cells": [
  {
   "cell_type": "code",
   "execution_count": 37,
   "id": "6b22e4a5",
   "metadata": {},
   "outputs": [],
   "source": [
    "class Solution:\n",
    "    def twoSum(self, nums: list[int], target: int) -> list[int]:\n",
    "        nums1 = nums.copy()\n",
    "        nums1.sort()\n",
    "        count = 0\n",
    "        for i in nums1:\n",
    "            if i >=target:\n",
    "                break\n",
    "            count+=1\n",
    "        \n",
    "        nums1 = nums1[:count]\n",
    "        \n",
    "        p=0\n",
    "        q=len(nums1) - 1\n",
    "        \n",
    "        summ = nums1[p] + nums1[q]\n",
    "        \n",
    "        while(summ!=target):\n",
    "            if summ >target:\n",
    "                q-=1\n",
    "            elif summ<target:\n",
    "                p+=1     \n",
    "        first = nums.index(nums1[p])\n",
    "        nums[first] = -1\n",
    "        return ([first, nums.index(nums1[q])])"
   ]
  },
  {
   "cell_type": "code",
   "execution_count": 39,
   "id": "f70843c3",
   "metadata": {},
   "outputs": [
    {
     "data": {
      "text/plain": [
       "[0, 1]"
      ]
     },
     "execution_count": 39,
     "metadata": {},
     "output_type": "execute_result"
    }
   ],
   "source": [
    "instance = Solution()\n",
    "\n",
    "instance.twoSum([3,3], 6)"
   ]
  },
  {
   "cell_type": "code",
   "execution_count": null,
   "id": "2697ccda",
   "metadata": {},
   "outputs": [],
   "source": []
  }
 ],
 "metadata": {
  "kernelspec": {
   "display_name": "Python 3 (ipykernel)",
   "language": "python",
   "name": "python3"
  },
  "language_info": {
   "codemirror_mode": {
    "name": "ipython",
    "version": 3
   },
   "file_extension": ".py",
   "mimetype": "text/x-python",
   "name": "python",
   "nbconvert_exporter": "python",
   "pygments_lexer": "ipython3",
   "version": "3.9.12"
  }
 },
 "nbformat": 4,
 "nbformat_minor": 5
}
