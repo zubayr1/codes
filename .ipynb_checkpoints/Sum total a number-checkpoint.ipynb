{
 "cells": [
  {
   "cell_type": "code",
   "execution_count": 16,
   "id": "0574daae",
   "metadata": {},
   "outputs": [
    {
     "name": "stdout",
     "output_type": "stream",
     "text": [
      "13\n",
      "1 5\n"
     ]
    },
    {
     "ename": "TypeError",
     "evalue": "'NoneType' object is not iterable",
     "output_type": "error",
     "traceback": [
      "\u001b[1;31m---------------------------------------------------------------------------\u001b[0m",
      "\u001b[1;31mTypeError\u001b[0m                                 Traceback (most recent call last)",
      "Input \u001b[1;32mIn [16]\u001b[0m, in \u001b[0;36m<cell line: 27>\u001b[1;34m()\u001b[0m\n\u001b[0;32m     24\u001b[0m arr \u001b[38;5;241m=\u001b[39m arr\u001b[38;5;241m.\u001b[39msort()\n\u001b[0;32m     25\u001b[0m resultarr \u001b[38;5;241m=\u001b[39m arr\n\u001b[1;32m---> 27\u001b[0m \u001b[38;5;28mprint\u001b[39m(\u001b[43mmakesum\u001b[49m\u001b[43m(\u001b[49m\u001b[43mn\u001b[49m\u001b[43m,\u001b[49m\u001b[43m \u001b[49m\u001b[43marr\u001b[49m\u001b[43m,\u001b[49m\u001b[43m \u001b[49m\u001b[43mresultarr\u001b[49m\u001b[43m)\u001b[49m)\n",
      "Input \u001b[1;32mIn [16]\u001b[0m, in \u001b[0;36mmakesum\u001b[1;34m(n, arr, resultarr)\u001b[0m\n\u001b[0;32m      1\u001b[0m \u001b[38;5;28;01mdef\u001b[39;00m \u001b[38;5;21mmakesum\u001b[39m(n, arr, resultarr):\n\u001b[1;32m----> 2\u001b[0m     \u001b[38;5;28;01mfor\u001b[39;00m i \u001b[38;5;129;01min\u001b[39;00m arr:\n\u001b[0;32m      3\u001b[0m         \u001b[38;5;28;01mif\u001b[39;00m \u001b[38;5;28msum\u001b[39m(resultarr)\u001b[38;5;241m==\u001b[39mn:\n\u001b[0;32m      4\u001b[0m             \u001b[38;5;28;01mreturn\u001b[39;00m resultarr\n",
      "\u001b[1;31mTypeError\u001b[0m: 'NoneType' object is not iterable"
     ]
    }
   ],
   "source": [
    "def makesum(n, arr, resultarr):\n",
    "    for i in arr:\n",
    "        if sum(resultarr)==n:\n",
    "            return resultarr\n",
    "        \n",
    "        resultarr.append(i)\n",
    "        print(n, resultarr)\n",
    "        if sum(resultarr)==n:\n",
    "            return resultarr\n",
    "        elif sum(resultarr)<n:\n",
    "            makesum(n, arr, resultarr)\n",
    "        else:\n",
    "            resultarr.pop(len(resultarr)-1)\n",
    "    \n",
    "    \n",
    "\n",
    "\n",
    "\n",
    "n = int(input())\n",
    "\n",
    "arr = [int(i) for i in input().split()]\n",
    "\n",
    "\n",
    "arr.sort()\n",
    "resultarr = arr\n",
    "\n",
    "print(makesum(n, arr, resultarr))"
   ]
  },
  {
   "cell_type": "code",
   "execution_count": null,
   "id": "85c119bd",
   "metadata": {},
   "outputs": [],
   "source": []
  }
 ],
 "metadata": {
  "kernelspec": {
   "display_name": "Python 3 (ipykernel)",
   "language": "python",
   "name": "python3"
  },
  "language_info": {
   "codemirror_mode": {
    "name": "ipython",
    "version": 3
   },
   "file_extension": ".py",
   "mimetype": "text/x-python",
   "name": "python",
   "nbconvert_exporter": "python",
   "pygments_lexer": "ipython3",
   "version": "3.9.12"
  }
 },
 "nbformat": 4,
 "nbformat_minor": 5
}
