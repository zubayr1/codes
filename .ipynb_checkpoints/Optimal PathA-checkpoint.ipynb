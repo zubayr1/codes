{
 "cells": [
  {
   "cell_type": "code",
   "execution_count": 10,
   "id": "0f8f97cb",
   "metadata": {},
   "outputs": [
    {
     "name": "stdout",
     "output_type": "stream",
     "text": [
      "2\n",
      "5 5\n",
      "85\n",
      "10000 10000\n",
      "500099995000\n"
     ]
    }
   ],
   "source": [
    "# You are given a table a of size n×m. We will consider the table rows numbered from top to bottom from 1 to n, \n",
    "# and the columns numbered from left to right from 1 to m. We will denote a cell that is in the i-th row and in the j-th column as (i,j). In the cell (i,j) there is written a number (i−1)⋅m+j, that is aij=(i−1)⋅m+j.\n",
    "\n",
    "# A turtle initially stands in the cell (1,1) and it wants to come to the cell (n,m). From the cell (i,j) it can in one step go to one of the cells (i+1,j) or (i,j+1), \n",
    "# if it exists. A path is a sequence of cells in which for every two adjacent in the sequence cells the following satisfies: the turtle can reach from the first cell to the second cell in one step. A cost of a path is the sum of numbers that are written in the cells of the path.\n",
    "    \n",
    "# You are asked to tell the turtle a minimal possible cost of a path from the cell (1,1) to the cell (n,m). \n",
    "# Please note that the cells (1,1) and (n,m) are a part of the way.\n",
    "\n",
    "\n",
    "\n",
    "\n",
    "T = int(input())\n",
    "\n",
    "for i in range(T):\n",
    "    n,m = [int(j) for j in input().split()]\n",
    "    \n",
    "    SUM = 0\n",
    "    \n",
    "    SUM = int(m*(m+1)/2) + int(m*(n*(n+1))/2) - m\n",
    "    \n",
    "    \n",
    "    print(SUM)"
   ]
  },
  {
   "cell_type": "code",
   "execution_count": null,
   "id": "8ce74a8b",
   "metadata": {},
   "outputs": [],
   "source": []
  }
 ],
 "metadata": {
  "kernelspec": {
   "display_name": "Python 3 (ipykernel)",
   "language": "python",
   "name": "python3"
  },
  "language_info": {
   "codemirror_mode": {
    "name": "ipython",
    "version": 3
   },
   "file_extension": ".py",
   "mimetype": "text/x-python",
   "name": "python",
   "nbconvert_exporter": "python",
   "pygments_lexer": "ipython3",
   "version": "3.9.12"
  }
 },
 "nbformat": 4,
 "nbformat_minor": 5
}
