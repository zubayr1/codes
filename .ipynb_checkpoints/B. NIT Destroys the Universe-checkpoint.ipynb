{
 "cells": [
  {
   "cell_type": "code",
   "execution_count": 20,
   "id": "6d0f6ee9",
   "metadata": {},
   "outputs": [
    {
     "name": "stdout",
     "output_type": "stream",
     "text": [
      "1\n",
      "1\n",
      "1 2 3\n",
      "1\n"
     ]
    }
   ],
   "source": [
    "t =  int(input())\n",
    "RES=\"\"\n",
    "for i in range(t):\n",
    "    n = int(input())\n",
    "    \n",
    "    arr = [int(j) for j in input().split()]\n",
    "    \n",
    "    \n",
    "    if all(v == 0 for v in arr):\n",
    "        RES+=\"0\" + '\\n'\n",
    "    else:\n",
    "        COUNT=0\n",
    "        CHECK=0\n",
    "        for j in range(len(arr)):\n",
    "            if arr[j]!=0:\n",
    "                CHECK=1\n",
    "            else:\n",
    "                if CHECK==1:\n",
    "                    CHECK=0\n",
    "                    COUNT+=1\n",
    "        \n",
    "        if CHECK==1:\n",
    "            COUNT+=1\n",
    "\n",
    "        RES+= str(COUNT) + '\\n'\n",
    "    \n",
    "print(RES)"
   ]
  },
  {
   "cell_type": "code",
   "execution_count": null,
   "id": "bc5ebba6",
   "metadata": {},
   "outputs": [],
   "source": []
  }
 ],
 "metadata": {
  "kernelspec": {
   "display_name": "Python 3 (ipykernel)",
   "language": "python",
   "name": "python3"
  },
  "language_info": {
   "codemirror_mode": {
    "name": "ipython",
    "version": 3
   },
   "file_extension": ".py",
   "mimetype": "text/x-python",
   "name": "python",
   "nbconvert_exporter": "python",
   "pygments_lexer": "ipython3",
   "version": "3.9.12"
  }
 },
 "nbformat": 4,
 "nbformat_minor": 5
}
