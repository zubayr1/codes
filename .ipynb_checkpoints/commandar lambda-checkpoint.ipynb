{
 "cells": [
  {
   "cell_type": "code",
   "execution_count": 18,
   "id": "66f90700",
   "metadata": {},
   "outputs": [],
   "source": [
    "def large(x,y):\n",
    "    if len(x) > len(y):\n",
    "        return 1\n",
    "    return 0"
   ]
  },
  {
   "cell_type": "code",
   "execution_count": 19,
   "id": "f0641521",
   "metadata": {},
   "outputs": [],
   "source": [
    "def check(a, b):\n",
    "    for _i in range(len(a) - 1):\n",
    "        v1 = a.pop()\n",
    "        v2 = b.pop()\n",
    "        print(v1, v2)\n",
    "        if v1!=v2:\n",
    "            return v1\n",
    "        return a.pop()"
   ]
  },
  {
   "cell_type": "code",
   "execution_count": 22,
   "id": "08c8c87a",
   "metadata": {},
   "outputs": [],
   "source": [
    "def solution(x,y):\n",
    "    x.sort()\n",
    "    y.sort()\n",
    "    if large(x,y)==1:\n",
    "        return check(x, y)\n",
    "    return check(y, x)"
   ]
  },
  {
   "cell_type": "code",
   "execution_count": 23,
   "id": "07b73e78",
   "metadata": {},
   "outputs": [
    {
     "name": "stdout",
     "output_type": "stream",
     "text": [
      "bb\n",
      "50 50\n"
     ]
    },
    {
     "data": {
      "text/plain": [
       "27"
      ]
     },
     "execution_count": 23,
     "metadata": {},
     "output_type": "execute_result"
    }
   ],
   "source": [
    "solution([14, 27, 1, 4, 2, 50, 3, 1], [2, 4, -4, 3, 1, 1, 14, 27, 50])"
   ]
  },
  {
   "cell_type": "code",
   "execution_count": null,
   "id": "34a3019e",
   "metadata": {},
   "outputs": [],
   "source": []
  }
 ],
 "metadata": {
  "kernelspec": {
   "display_name": "Python 3 (ipykernel)",
   "language": "python",
   "name": "python3"
  },
  "language_info": {
   "codemirror_mode": {
    "name": "ipython",
    "version": 3
   },
   "file_extension": ".py",
   "mimetype": "text/x-python",
   "name": "python",
   "nbconvert_exporter": "python",
   "pygments_lexer": "ipython3",
   "version": "3.9.12"
  }
 },
 "nbformat": 4,
 "nbformat_minor": 5
}
