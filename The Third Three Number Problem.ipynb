{
 "cells": [
  {
   "cell_type": "code",
   "execution_count": null,
   "id": "938c22ed",
   "metadata": {},
   "outputs": [],
   "source": [
    "t = int(input())\n",
    "\n",
    "def getbit(a):\n",
    "    \n",
    "\n",
    "for i in range(t):\n",
    "    n = int(input())\n",
    "    \n",
    "    "
   ]
  },
  {
   "cell_type": "code",
   "execution_count": 24,
   "id": "2d387877",
   "metadata": {},
   "outputs": [],
   "source": [
    "def getbit(a):\n",
    "    lis=[]\n",
    "    if a==0:\n",
    "        return [0]\n",
    "    while a>=1:\n",
    "        lis.append(a%2)\n",
    "        a= int(a/2)\n",
    "        \n",
    "        \n",
    "    lis.reverse()\n",
    "    return lis"
   ]
  },
  {
   "cell_type": "code",
   "execution_count": 27,
   "id": "e35842fc",
   "metadata": {},
   "outputs": [
    {
     "name": "stdout",
     "output_type": "stream",
     "text": [
      "[1, 1, 1]\n"
     ]
    }
   ],
   "source": [
    "print(getbit(7))"
   ]
  },
  {
   "cell_type": "code",
   "execution_count": null,
   "id": "436aa290",
   "metadata": {},
   "outputs": [],
   "source": []
  }
 ],
 "metadata": {
  "kernelspec": {
   "display_name": "Python 3 (ipykernel)",
   "language": "python",
   "name": "python3"
  },
  "language_info": {
   "codemirror_mode": {
    "name": "ipython",
    "version": 3
   },
   "file_extension": ".py",
   "mimetype": "text/x-python",
   "name": "python",
   "nbconvert_exporter": "python",
   "pygments_lexer": "ipython3",
   "version": "3.9.12"
  }
 },
 "nbformat": 4,
 "nbformat_minor": 5
}
