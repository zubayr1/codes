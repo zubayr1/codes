{
 "cells": [
  {
   "cell_type": "code",
   "execution_count": 9,
   "id": "916998ed",
   "metadata": {},
   "outputs": [],
   "source": [
    "class Solution:\n",
    "    def largestOddNumber(self, num: str) -> str:\n",
    "        val = str(num)\n",
    "        \n",
    "        val = val[::-1]\n",
    "        \n",
    "        for i in val:\n",
    "            if int(i)%2!=0:\n",
    "                return val[::-1]\n",
    "            val = val[1:]\n",
    "        \n",
    "        return \"\""
   ]
  },
  {
   "cell_type": "code",
   "execution_count": 27,
   "id": "e62c3c65",
   "metadata": {},
   "outputs": [],
   "source": [
    "class Solution:\n",
    "    def largestOddNumber(self, num: str) -> str:\n",
    "        while num>0:   \n",
    "            rem = num%10\n",
    "            print(num, rem)\n",
    "            if rem%2!=0:\n",
    "                return str(num)\n",
    "            num = int(num//10)\n",
    "        return ''"
   ]
  },
  {
   "cell_type": "code",
   "execution_count": 28,
   "id": "c1cb2f12",
   "metadata": {},
   "outputs": [
    {
     "name": "stdout",
     "output_type": "stream",
     "text": [
      "3691669784801845146 6\n",
      "369166978480184514 4\n",
      "36916697848018451 1\n"
     ]
    },
    {
     "data": {
      "text/plain": [
       "'36916697848018451'"
      ]
     },
     "execution_count": 28,
     "metadata": {},
     "output_type": "execute_result"
    }
   ],
   "source": [
    "instance = Solution()\n",
    "\n",
    "instance.largestOddNumber(3691669784801845146)"
   ]
  },
  {
   "cell_type": "code",
   "execution_count": 26,
   "id": "be58128f",
   "metadata": {},
   "outputs": [
    {
     "data": {
      "text/plain": [
       "369166978480184514"
      ]
     },
     "execution_count": 26,
     "metadata": {},
     "output_type": "execute_result"
    }
   ],
   "source": [
    "result = 3691669784801845146 // 10\n",
    "result"
   ]
  },
  {
   "cell_type": "code",
   "execution_count": null,
   "id": "df432222",
   "metadata": {},
   "outputs": [],
   "source": []
  }
 ],
 "metadata": {
  "kernelspec": {
   "display_name": "Python 3 (ipykernel)",
   "language": "python",
   "name": "python3"
  },
  "language_info": {
   "codemirror_mode": {
    "name": "ipython",
    "version": 3
   },
   "file_extension": ".py",
   "mimetype": "text/x-python",
   "name": "python",
   "nbconvert_exporter": "python",
   "pygments_lexer": "ipython3",
   "version": "3.9.12"
  }
 },
 "nbformat": 4,
 "nbformat_minor": 5
}
