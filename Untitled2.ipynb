{
 "cells": [
  {
   "cell_type": "code",
   "execution_count": 1,
   "id": "4ad51903",
   "metadata": {},
   "outputs": [],
   "source": [
    "text = \"Sbomini\"\n",
    "\n",
    "import hashlib\n",
    "\n",
    "\n",
    "for i in range(1000, 9999):\n",
    "    password = text + str(i)\n",
    "    result = hashlib.md5(password.encode('utf-8')).hexdigest()\n",
    "    \n",
    "        \n",
    "    if result==\"6eb1bfd42f704f36262d05485a456346\":\n",
    "        print(text + str(i))"
   ]
  },
  {
   "cell_type": "code",
   "execution_count": 2,
   "id": "44bec131",
   "metadata": {},
   "outputs": [],
   "source": [
    "import hashlib\n",
    "import itertools\n",
    "\n",
    "\n",
    "\n",
    "file1 = open('Ex05_Dictionary.txt', 'r')\n",
    "Lines = file1.readlines()\n",
    "  \n",
    "\n",
    "for line in Lines:\n",
    "    resultlist = list(map(''.join, itertools.product(*zip(line.strip().upper(), line.strip().lower()))))\n",
    "\n",
    "    for i in resultlist:\n",
    "          \n",
    "        result = hashlib.md5(i.encode('utf-8')).hexdigest()\n",
    "\n",
    "\n",
    "        if result==\"bbdcedf482df90e24df1fdeac8eae0a0\":\n",
    "            print(line.strip())"
   ]
  },
  {
   "cell_type": "code",
   "execution_count": 3,
   "id": "16ac54be",
   "metadata": {},
   "outputs": [],
   "source": [
    "resultlist = list(map(''.join, itertools.product(*zip('line'.strip().upper(), 'line'.strip().lower()))))"
   ]
  },
  {
   "cell_type": "code",
   "execution_count": null,
   "id": "34740373",
   "metadata": {},
   "outputs": [],
   "source": [
    "import hashlib\n",
    "import itertools\n",
    "\n",
    "\n",
    "\n",
    "file1 = open('Ex05_Dictionary.txt', 'r')\n",
    "Lines = file1.readlines()\n",
    "  \n",
    "\n",
    "for line in Lines:\n",
    "    resultlist = list(map(''.join, itertools.product(*zip(line.strip().upper(), line.strip().lower()))))\n",
    "\n",
    "    for i in resultlist:\n",
    "          \n",
    "        result = hashlib.md5(i.encode('utf-8')).hexdigest()\n",
    "\n",
    "\n",
    "        if result==\"bbdcedf482df90e24df1fdeac8eae0a0\":\n",
    "            print(line.strip())"
   ]
  },
  {
   "cell_type": "code",
   "execution_count": null,
   "id": "ca90b3b8",
   "metadata": {},
   "outputs": [],
   "source": [
    "import hashlib\n",
    "import itertools\n",
    "\n",
    "\n",
    "\n",
    "file1 = open('Ex05_Dictionary.txt', 'r')\n",
    "Lines = file1.readlines()\n",
    "  \n",
    "\n",
    "for line in Lines:\n",
    "    resultlist = list(map(''.join, itertools.product(*zip(line.strip().upper(), line.strip().lower()))))\n",
    "\n",
    "    for i in resultlist:\n",
    "          \n",
    "        result = hashlib.md5(i.encode('utf-8')).hexdigest()\n",
    "\n",
    "\n",
    "        if result==\"bbdcedf482df90e24df1fdeac8eae0a0\":\n",
    "            print(line.strip())"
   ]
  },
  {
   "cell_type": "code",
   "execution_count": null,
   "id": "0c55954e",
   "metadata": {},
   "outputs": [],
   "source": []
  },
  {
   "cell_type": "code",
   "execution_count": null,
   "id": "b2c6a246",
   "metadata": {},
   "outputs": [],
   "source": []
  },
  {
   "cell_type": "code",
   "execution_count": null,
   "id": "56d77e4b",
   "metadata": {},
   "outputs": [],
   "source": []
  },
  {
   "cell_type": "code",
   "execution_count": 7,
   "id": "452d0940",
   "metadata": {},
   "outputs": [],
   "source": [
    "file1 = open('Ex05_Dictionary.txt', 'r')\n",
    "Lines = file1.readlines()\n",
    "\n",
    "charset = ['-', '_', ';', ' ', ',', '.', ':', '+', '@', '#', '$', '%']\n",
    "\n",
    "arr =[]\n",
    "\n",
    "for line in Lines:\n",
    "    for i in charset:\n",
    "        arr.append(line.strip() + str(i))"
   ]
  },
  {
   "cell_type": "code",
   "execution_count": 9,
   "id": "c0c93720",
   "metadata": {},
   "outputs": [],
   "source": [
    "with open('Ex1.txt', 'w') as f:\n",
    "    for line1 in arr:\n",
    "        f.write(f\"{line1}\\n\")"
   ]
  },
  {
   "cell_type": "code",
   "execution_count": null,
   "id": "f240959b",
   "metadata": {},
   "outputs": [],
   "source": []
  }
 ],
 "metadata": {
  "kernelspec": {
   "display_name": "Python 3 (ipykernel)",
   "language": "python",
   "name": "python3"
  },
  "language_info": {
   "codemirror_mode": {
    "name": "ipython",
    "version": 3
   },
   "file_extension": ".py",
   "mimetype": "text/x-python",
   "name": "python",
   "nbconvert_exporter": "python",
   "pygments_lexer": "ipython3",
   "version": "3.9.12"
  }
 },
 "nbformat": 4,
 "nbformat_minor": 5
}
