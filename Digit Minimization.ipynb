{
 "cells": [
  {
   "cell_type": "code",
   "execution_count": 13,
   "id": "16a22adb",
   "metadata": {},
   "outputs": [
    {
     "name": "stdout",
     "output_type": "stream",
     "text": [
      "1\n",
      "12\n",
      "2\n"
     ]
    }
   ],
   "source": [
    "# There is an integer n without zeros in its decimal representation. Alice and Bob are playing a game with this integer. Alice starts first. They play the game in turns.\n",
    "\n",
    "# On her turn, Alice must swap any two digits of the integer that are on different positions. Bob on his turn always removes the last digit of the integer. The game ends when there is only one digit left.\n",
    "\n",
    "# You have to find the smallest integer Alice can get in the end, if she plays optimally.\n",
    "\n",
    "T = int(input())\n",
    "\n",
    "for i in range(T):\n",
    "    val = input()\n",
    "    \n",
    "    lisval = list(val)\n",
    "    \n",
    "    if len(lisval)==2:\n",
    "        print(lisval[1])\n",
    "    \n",
    "    else:\n",
    "        lisval.sort()\n",
    "\n",
    "\n",
    "\n",
    "        print(lisval[0])"
   ]
  },
  {
   "cell_type": "code",
   "execution_count": null,
   "id": "a483cd4d",
   "metadata": {},
   "outputs": [],
   "source": []
  }
 ],
 "metadata": {
  "kernelspec": {
   "display_name": "Python 3 (ipykernel)",
   "language": "python",
   "name": "python3"
  },
  "language_info": {
   "codemirror_mode": {
    "name": "ipython",
    "version": 3
   },
   "file_extension": ".py",
   "mimetype": "text/x-python",
   "name": "python",
   "nbconvert_exporter": "python",
   "pygments_lexer": "ipython3",
   "version": "3.9.12"
  }
 },
 "nbformat": 4,
 "nbformat_minor": 5
}
