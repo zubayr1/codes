{
 "cells": [
  {
   "cell_type": "code",
   "execution_count": 10,
   "id": "95b81409",
   "metadata": {},
   "outputs": [
    {
     "name": "stdout",
     "output_type": "stream",
     "text": [
      "2\n",
      "7 5\n",
      "ABAACCA\n",
      "3 6\n",
      "4 4\n",
      "2 5\n",
      "6 7\n",
      "3 7\n",
      "3 5\n",
      "XYZ\n",
      "1 3\n",
      "1 3\n",
      "1 3\n",
      "1 3\n",
      "1 3\n",
      "Case #1: 3\n",
      "Case #2: 0\n",
      "\n"
     ]
    }
   ],
   "source": [
    "def checkpalindrome(arr):\n",
    "    \n",
    "    lis = []\n",
    "    \n",
    "    arr.sort()\n",
    "    \n",
    "    for i in arr:\n",
    "        if len(lis)==0:\n",
    "            lis.append(i)\n",
    "        else:\n",
    "            if lis[len(lis)-1]!=i:\n",
    "                lis.append(i)\n",
    "            else:\n",
    "                lis.pop()\n",
    "            \n",
    "    if len(lis)==0 or len(lis)==1:\n",
    "        return 1\n",
    "            \n",
    "    return 0\n",
    "\n",
    "\n",
    "t = int(input())\n",
    "RES=\"\"\n",
    "for i in range(t):\n",
    "    n,q = [int(j) for j in input().split()]\n",
    "    \n",
    "    arr = list(input())\n",
    "    \n",
    "    sum=0\n",
    "    for j in range(q):\n",
    "        l,r = [int(k) for k in input().split()]\n",
    "        \n",
    "        \n",
    "        if len(arr[l-1:r])==1:\n",
    "            sum+=1\n",
    "        else:\n",
    "            sum+=checkpalindrome(arr[l-1:r])\n",
    "    RES+= \"Case #\"+str(i+1)+\": \"+str(sum)+'\\n'\n",
    "    \n",
    "print(RES)"
   ]
  },
  {
   "cell_type": "code",
   "execution_count": 3,
   "id": "4d40d1d5",
   "metadata": {},
   "outputs": [
    {
     "name": "stdout",
     "output_type": "stream",
     "text": [
      "3\n",
      "[1, 2]\n"
     ]
    }
   ],
   "source": [
    "lis = [1,2,3]\n",
    "\n",
    "print(lis[len(lis)-1])\n",
    "\n",
    "lis.pop()\n",
    "\n",
    "print(lis)"
   ]
  },
  {
   "cell_type": "code",
   "execution_count": 23,
   "id": "d3f3e954",
   "metadata": {},
   "outputs": [
    {
     "name": "stdout",
     "output_type": "stream",
     "text": [
      "['d', 'd', 'e', 'e', 'i', 'i', 'r', 'r', 'v']\n",
      "{'v', 'i', 'r', 'e', 'd'}\n"
     ]
    },
    {
     "data": {
      "text/plain": [
       "1"
      ]
     },
     "execution_count": 23,
     "metadata": {},
     "output_type": "execute_result"
    }
   ],
   "source": [
    "checkpalindrome(['r','e','d','i','v','i','d','e','r'])"
   ]
  },
  {
   "cell_type": "code",
   "execution_count": null,
   "id": "2af8a1b8",
   "metadata": {},
   "outputs": [],
   "source": []
  }
 ],
 "metadata": {
  "kernelspec": {
   "display_name": "Python 3 (ipykernel)",
   "language": "python",
   "name": "python3"
  },
  "language_info": {
   "codemirror_mode": {
    "name": "ipython",
    "version": 3
   },
   "file_extension": ".py",
   "mimetype": "text/x-python",
   "name": "python",
   "nbconvert_exporter": "python",
   "pygments_lexer": "ipython3",
   "version": "3.9.12"
  }
 },
 "nbformat": 4,
 "nbformat_minor": 5
}
