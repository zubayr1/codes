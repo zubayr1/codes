{
 "cells": [
  {
   "cell_type": "code",
   "execution_count": 11,
   "id": "37bce62a",
   "metadata": {},
   "outputs": [],
   "source": [
    "class Solution:\n",
    "    def arrayStringsAreEqual(self, word1: list[str], word2: list[str]) -> bool:\n",
    "        val = ''\n",
    "        val = val.join(word1)\n",
    "        \n",
    "        val2 = ''\n",
    "        val2 = val2.join(word2)\n",
    "        \n",
    "        if val==val2:\n",
    "            return True\n",
    "        return False"
   ]
  },
  {
   "cell_type": "code",
   "execution_count": 12,
   "id": "cb8b5719",
   "metadata": {},
   "outputs": [
    {
     "data": {
      "text/plain": [
       "True"
      ]
     },
     "execution_count": 12,
     "metadata": {},
     "output_type": "execute_result"
    }
   ],
   "source": [
    "instance = Solution()\n",
    "\n",
    "instance.arrayStringsAreEqual([\"ab\", \"c\"], [\"a\", \"bc\"])"
   ]
  },
  {
   "cell_type": "code",
   "execution_count": null,
   "id": "a02d36fb",
   "metadata": {},
   "outputs": [],
   "source": []
  }
 ],
 "metadata": {
  "kernelspec": {
   "display_name": "Python 3 (ipykernel)",
   "language": "python",
   "name": "python3"
  },
  "language_info": {
   "codemirror_mode": {
    "name": "ipython",
    "version": 3
   },
   "file_extension": ".py",
   "mimetype": "text/x-python",
   "name": "python",
   "nbconvert_exporter": "python",
   "pygments_lexer": "ipython3",
   "version": "3.9.12"
  }
 },
 "nbformat": 4,
 "nbformat_minor": 5
}
