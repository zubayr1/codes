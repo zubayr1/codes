{
 "cells": [
  {
   "cell_type": "code",
   "execution_count": null,
   "id": "ca16c981",
   "metadata": {},
   "outputs": [],
   "source": [
    "import random\n",
    "\n",
    "s = \"abcdefghijklmnopqrstuvwxyz\"\n",
    "b = []\n",
    "length=7\n",
    "for _ in range(100000):\n",
    "    for _ in range(length):\n",
    "        password = (\"\".join(random.sample(s,length)))\n",
    "        if password not in b:\n",
    "            b.append(\"\".join(password))\n",
    "print(b)\n"
   ]
  },
  {
   "cell_type": "code",
   "execution_count": null,
   "id": "985cc134",
   "metadata": {},
   "outputs": [],
   "source": [
    "import hashlib\n",
    "\n",
    "\n",
    "for line1 in b:\n",
    "    for i in range(1000,9999):\n",
    "        password =  line1.strip().title() +str(i)\n",
    "        \n",
    "\n",
    "        result = hashlib.md5(password.encode('utf-8')).hexdigest()\n",
    "\n",
    "\n",
    "        if result==\"6eb1bfd42f704f36262d05485a456346\":\n",
    "            print(password)"
   ]
  },
  {
   "cell_type": "code",
   "execution_count": null,
   "id": "3b388aa6",
   "metadata": {},
   "outputs": [],
   "source": []
  }
 ],
 "metadata": {
  "kernelspec": {
   "display_name": "Python 3 (ipykernel)",
   "language": "python",
   "name": "python3"
  },
  "language_info": {
   "codemirror_mode": {
    "name": "ipython",
    "version": 3
   },
   "file_extension": ".py",
   "mimetype": "text/x-python",
   "name": "python",
   "nbconvert_exporter": "python",
   "pygments_lexer": "ipython3",
   "version": "3.9.12"
  }
 },
 "nbformat": 4,
 "nbformat_minor": 5
}
