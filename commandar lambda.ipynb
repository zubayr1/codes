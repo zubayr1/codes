{
 "cells": [
  {
   "cell_type": "code",
   "execution_count": 56,
   "id": "1db2347f",
   "metadata": {},
   "outputs": [],
   "source": [
    "def large(x,y):\n",
    "    if len(x) > len(y):\n",
    "        return 1\n",
    "    return 0"
   ]
  },
  {
   "cell_type": "code",
   "execution_count": 57,
   "id": "58c9d92a",
   "metadata": {},
   "outputs": [],
   "source": [
    "def check(a, b):\n",
    "    for _i in range(len(a) - 1):\n",
    "        v1 = a.pop(0)\n",
    "        v2 = b.pop(0)\n",
    "        if v1!=v2:\n",
    "            return v1\n",
    "    return a.pop()"
   ]
  },
  {
   "cell_type": "code",
   "execution_count": 58,
   "id": "f3e03aee",
   "metadata": {},
   "outputs": [],
   "source": [
    "def solution(x,y):\n",
    "    x.sort()\n",
    "    y.sort()\n",
    "\n",
    "    if large(x,y)==1:\n",
    "        return check(x, y)\n",
    "    return check(y, x)"
   ]
  },
  {
   "cell_type": "code",
   "execution_count": 59,
   "id": "20b73fb3",
   "metadata": {},
   "outputs": [
    {
     "data": {
      "text/plain": [
       "50"
      ]
     },
     "execution_count": 59,
     "metadata": {},
     "output_type": "execute_result"
    }
   ],
   "source": [
    "solution([14, 27, 1, -4, 2, 50, 3, 1], [2, 27, -4, 3, 1, 1, 14, 50, 50])"
   ]
  },
  {
   "cell_type": "code",
   "execution_count": null,
   "id": "c82f8b93",
   "metadata": {},
   "outputs": [],
   "source": []
  }
 ],
 "metadata": {
  "kernelspec": {
   "display_name": "Python 3 (ipykernel)",
   "language": "python",
   "name": "python3"
  },
  "language_info": {
   "codemirror_mode": {
    "name": "ipython",
    "version": 3
   },
   "file_extension": ".py",
   "mimetype": "text/x-python",
   "name": "python",
   "nbconvert_exporter": "python",
   "pygments_lexer": "ipython3",
   "version": "3.9.12"
  }
 },
 "nbformat": 4,
 "nbformat_minor": 5
}
