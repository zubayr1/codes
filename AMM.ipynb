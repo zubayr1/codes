{
 "cells": [
  {
   "cell_type": "code",
   "execution_count": 39,
   "id": "d30fdb3f",
   "metadata": {},
   "outputs": [],
   "source": [
    "#    dx, dy = amount demanded (positive)\n",
    "#    return type: amount to give: (negative)\n",
    "\n",
    "def calculate(AMMtype, x, y, dx=0, dy=0, valueof='dx'): ##valueof: value of the token needed. dy if dx is given and vice versa\n",
    "    if AMMtype=='CSMM': \n",
    "        if valueof=='dx':\n",
    "            return -dy\n",
    "        if valueof=='dy':\n",
    "            return -dx\n",
    "        return 'invalid'\n",
    "    elif AMMtype=='CPMM':\n",
    "        if valueof=='dx':\n",
    "            return -(x*dy)/(y + dy)\n",
    "        if valueof=='dy':\n",
    "            return -(y*dx)/(x + dx)\n",
    "        return 'invalid'\n",
    "    elif AMMtype=='CFMM':\n",
    "        if valueof=='dx':\n",
    "            d = ((2*x)**2) - (4*1*5*dy)\n",
    "            print(d)\n",
    "            print(((2*x)+(d**.5))/(2*1))\n",
    "            \n",
    "            if (((2*x)+(d**.5))/(2*1))<x:\n",
    "                return -(((2*x)+(d**.5))/(2*1))\n",
    "            return -(((2*x)-(d**.5))/(2*1))\n",
    "        if valueof=='dy':\n",
    "            return -((2*x*dx)-(dx*dx))/5\n",
    "        return 'invalid'"
   ]
  },
  {
   "cell_type": "code",
   "execution_count": 40,
   "id": "92d01fe4",
   "metadata": {},
   "outputs": [
    {
     "name": "stdout",
     "output_type": "stream",
     "text": [
      "39940\n",
      "199.92497185388646\n"
     ]
    },
    {
     "data": {
      "text/plain": [
       "-0.07502814611355291"
      ]
     },
     "execution_count": 40,
     "metadata": {},
     "output_type": "execute_result"
    }
   ],
   "source": [
    "calculate('CFMM', 100, 20, dy=3,  valueof='dx')"
   ]
  },
  {
   "cell_type": "code",
   "execution_count": null,
   "id": "9331a8f2",
   "metadata": {},
   "outputs": [],
   "source": []
  }
 ],
 "metadata": {
  "kernelspec": {
   "display_name": "Python 3 (ipykernel)",
   "language": "python",
   "name": "python3"
  },
  "language_info": {
   "codemirror_mode": {
    "name": "ipython",
    "version": 3
   },
   "file_extension": ".py",
   "mimetype": "text/x-python",
   "name": "python",
   "nbconvert_exporter": "python",
   "pygments_lexer": "ipython3",
   "version": "3.9.12"
  }
 },
 "nbformat": 4,
 "nbformat_minor": 5
}
