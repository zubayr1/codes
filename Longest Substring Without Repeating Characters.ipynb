{
 "cells": [
  {
   "cell_type": "code",
   "execution_count": 20,
   "id": "d2d08d4f",
   "metadata": {},
   "outputs": [],
   "source": [
    "class Solution:\n",
    "    def lengthOfLongestSubstring(self, s: str) -> int:\n",
    "        if s==\"\":\n",
    "            return 0\n",
    "        if s==\" \":\n",
    "            return 1\n",
    "        \n",
    "        unique_char_lis = []\n",
    "        count_lis=[]\n",
    "        count=0\n",
    "        for i in s:\n",
    "            if i not in unique_char_lis:\n",
    "                unique_char_lis.append(i)\n",
    "                count+=1\n",
    "            else:\n",
    "                unique_char_lis = [i]\n",
    "                count_lis.append(count)\n",
    "                count=1\n",
    "        count_lis.append(count)\n",
    "        \n",
    "        if len(unique_char_lis)==len(s):\n",
    "            return len(unique_char_lis)\n",
    "        count_lis.sort()\n",
    "        return count_lis[len(count_lis)-1]"
   ]
  },
  {
   "cell_type": "code",
   "execution_count": 21,
   "id": "13985c72",
   "metadata": {},
   "outputs": [
    {
     "data": {
      "text/plain": [
       "3"
      ]
     },
     "execution_count": 21,
     "metadata": {},
     "output_type": "execute_result"
    }
   ],
   "source": [
    "instance = Solution()\n",
    "\n",
    "instance.lengthOfLongestSubstring(\"abcabcbb\")"
   ]
  },
  {
   "cell_type": "code",
   "execution_count": 53,
   "id": "39aadd19",
   "metadata": {},
   "outputs": [],
   "source": [
    "class Solution:\n",
    "    def lengthOfLongestSubstring(self, s: str) -> int:\n",
    "        if s==\"\":\n",
    "            return 0\n",
    "        if s==\" \":\n",
    "            return 1\n",
    "        unique_lis = []\n",
    "        count_lis = []\n",
    "        for i in s:\n",
    "            if i not in unique_lis:\n",
    "                unique_lis.append(i)\n",
    "                \n",
    "            else:\n",
    "                count_lis.append(len(unique_lis))\n",
    "                idx = unique_lis.index(i)\n",
    "                unique_lis = unique_lis[idx+1:]\n",
    "                unique_lis.append(i)                \n",
    "                \n",
    "        count_lis.append(len(unique_lis))\n",
    "        \n",
    "        count_lis.sort()\n",
    "        return count_lis[len(count_lis)-1]"
   ]
  },
  {
   "cell_type": "code",
   "execution_count": 56,
   "id": "69e5e1d3",
   "metadata": {},
   "outputs": [
    {
     "data": {
      "text/plain": [
       "3"
      ]
     },
     "execution_count": 56,
     "metadata": {},
     "output_type": "execute_result"
    }
   ],
   "source": [
    "instance = Solution()\n",
    "\n",
    "instance.lengthOfLongestSubstring(\"pwwkew\")\n",
    "# dvdf"
   ]
  },
  {
   "cell_type": "code",
   "execution_count": null,
   "id": "2010d077",
   "metadata": {},
   "outputs": [],
   "source": []
  },
  {
   "cell_type": "code",
   "execution_count": null,
   "id": "847ed4bf",
   "metadata": {},
   "outputs": [],
   "source": []
  }
 ],
 "metadata": {
  "kernelspec": {
   "display_name": "Python 3 (ipykernel)",
   "language": "python",
   "name": "python3"
  },
  "language_info": {
   "codemirror_mode": {
    "name": "ipython",
    "version": 3
   },
   "file_extension": ".py",
   "mimetype": "text/x-python",
   "name": "python",
   "nbconvert_exporter": "python",
   "pygments_lexer": "ipython3",
   "version": "3.9.12"
  }
 },
 "nbformat": 4,
 "nbformat_minor": 5
}
