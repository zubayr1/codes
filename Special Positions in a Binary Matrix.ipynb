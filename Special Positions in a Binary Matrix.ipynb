{
 "cells": [
  {
   "cell_type": "code",
   "execution_count": 12,
   "id": "e2a379c3",
   "metadata": {},
   "outputs": [],
   "source": [
    "class Solution:\n",
    "    def numSpecial(self, mat: list[list[int]]) -> int:\n",
    "        count = 0\n",
    "        size = len(mat)\n",
    "\n",
    "        row=-1        \n",
    "        for i in mat:\n",
    "            column=-1\n",
    "            row+=1\n",
    "            for j in i:\n",
    "                column+=1\n",
    "                if j==1:\n",
    "                    sumrow = sum(mat[row])\n",
    "                    column_elements = [row[column] for row in mat]\n",
    "                    \n",
    "                    sumcol = sum(column_elements)\n",
    "                    \n",
    "                    if sumrow==1 and sumcol==1:\n",
    "                        count+=1\n",
    "        \n",
    "        return count\n",
    "                    "
   ]
  },
  {
   "cell_type": "code",
   "execution_count": 15,
   "id": "0edc0c58",
   "metadata": {},
   "outputs": [
    {
     "data": {
      "text/plain": [
       "3"
      ]
     },
     "execution_count": 15,
     "metadata": {},
     "output_type": "execute_result"
    }
   ],
   "source": [
    "instance = Solution()\n",
    "\n",
    "instance.numSpecial([[1,0,0],[0,1,0],[0,0,1]])"
   ]
  },
  {
   "cell_type": "code",
   "execution_count": null,
   "id": "006c2c03",
   "metadata": {},
   "outputs": [],
   "source": []
  }
 ],
 "metadata": {
  "kernelspec": {
   "display_name": "Python 3 (ipykernel)",
   "language": "python",
   "name": "python3"
  },
  "language_info": {
   "codemirror_mode": {
    "name": "ipython",
    "version": 3
   },
   "file_extension": ".py",
   "mimetype": "text/x-python",
   "name": "python",
   "nbconvert_exporter": "python",
   "pygments_lexer": "ipython3",
   "version": "3.9.12"
  }
 },
 "nbformat": 4,
 "nbformat_minor": 5
}
